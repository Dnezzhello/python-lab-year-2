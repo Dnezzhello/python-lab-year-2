{
 "cells": [
  {
   "cell_type": "code",
   "execution_count": 1,
   "id": "8bf36ad6-2e62-4b14-9bf9-09588a961a58",
   "metadata": {},
   "outputs": [],
   "source": [
    "import pandas as pd, numpy as np"
   ]
  },
  {
   "cell_type": "markdown",
   "id": "b21e0e9d-32f0-44ef-9568-9e74fe7b01e1",
   "metadata": {},
   "source": [
    "## <b>File Reading</b>"
   ]
  },
  {
   "cell_type": "code",
   "execution_count": 3,
   "id": "aea7f222-d168-40b3-aa8b-7b8219a4bc97",
   "metadata": {},
   "outputs": [],
   "source": [
    "df = pd.read_excel(\"pisascore2018.xlsx\")"
   ]
  },
  {
   "cell_type": "code",
   "execution_count": 4,
   "id": "7662111d-dc6b-43a4-ab1d-f959585c4cfa",
   "metadata": {},
   "outputs": [
    {
     "data": {
      "text/html": [
       "<div>\n",
       "<style scoped>\n",
       "    .dataframe tbody tr th:only-of-type {\n",
       "        vertical-align: middle;\n",
       "    }\n",
       "\n",
       "    .dataframe tbody tr th {\n",
       "        vertical-align: top;\n",
       "    }\n",
       "\n",
       "    .dataframe thead th {\n",
       "        text-align: right;\n",
       "    }\n",
       "</style>\n",
       "<table border=\"1\" class=\"dataframe\">\n",
       "  <thead>\n",
       "    <tr style=\"text-align: right;\">\n",
       "      <th></th>\n",
       "      <th>Rank</th>\n",
       "      <th>Country</th>\n",
       "      <th>Maths</th>\n",
       "    </tr>\n",
       "  </thead>\n",
       "  <tbody>\n",
       "    <tr>\n",
       "      <th>0</th>\n",
       "      <td>1.0</td>\n",
       "      <td>China (Beijing, Shanghai, Jiangsu, Zhejiang)</td>\n",
       "      <td>591</td>\n",
       "    </tr>\n",
       "    <tr>\n",
       "      <th>1</th>\n",
       "      <td>2.0</td>\n",
       "      <td>Singapore</td>\n",
       "      <td>569</td>\n",
       "    </tr>\n",
       "    <tr>\n",
       "      <th>2</th>\n",
       "      <td>3.0</td>\n",
       "      <td>Macao</td>\n",
       "      <td>558</td>\n",
       "    </tr>\n",
       "    <tr>\n",
       "      <th>3</th>\n",
       "      <td>4.0</td>\n",
       "      <td>Hong Kong, China</td>\n",
       "      <td>551</td>\n",
       "    </tr>\n",
       "    <tr>\n",
       "      <th>4</th>\n",
       "      <td>5.0</td>\n",
       "      <td>Taiwan</td>\n",
       "      <td>531</td>\n",
       "    </tr>\n",
       "  </tbody>\n",
       "</table>\n",
       "</div>"
      ],
      "text/plain": [
       "   Rank                                       Country  Maths\n",
       "0   1.0  China (Beijing, Shanghai, Jiangsu, Zhejiang)    591\n",
       "1   2.0                                     Singapore    569\n",
       "2   3.0                                         Macao    558\n",
       "3   4.0                              Hong Kong, China    551\n",
       "4   5.0                                        Taiwan    531"
      ]
     },
     "execution_count": 4,
     "metadata": {},
     "output_type": "execute_result"
    }
   ],
   "source": [
    "df.head()"
   ]
  },
  {
   "cell_type": "code",
   "execution_count": 6,
   "id": "00b27d90-4336-4682-9da5-49c6c434d222",
   "metadata": {},
   "outputs": [],
   "source": [
    "# read an excel file and also specify sheet\n",
    "df_sci = pd.read_excel(\"pisascore2018.xlsx\", sheet_name=\"Sci\")"
   ]
  },
  {
   "cell_type": "code",
   "execution_count": 7,
   "id": "6d41cd84-2827-46c4-8ea2-3665d20731f5",
   "metadata": {},
   "outputs": [
    {
     "data": {
      "text/html": [
       "<div>\n",
       "<style scoped>\n",
       "    .dataframe tbody tr th:only-of-type {\n",
       "        vertical-align: middle;\n",
       "    }\n",
       "\n",
       "    .dataframe tbody tr th {\n",
       "        vertical-align: top;\n",
       "    }\n",
       "\n",
       "    .dataframe thead th {\n",
       "        text-align: right;\n",
       "    }\n",
       "</style>\n",
       "<table border=\"1\" class=\"dataframe\">\n",
       "  <thead>\n",
       "    <tr style=\"text-align: right;\">\n",
       "      <th></th>\n",
       "      <th>Rank</th>\n",
       "      <th>Country</th>\n",
       "      <th>Science</th>\n",
       "    </tr>\n",
       "  </thead>\n",
       "  <tbody>\n",
       "    <tr>\n",
       "      <th>0</th>\n",
       "      <td>1.0</td>\n",
       "      <td>China (Beijing, Shanghai, Jiangsu, Zhejiang)</td>\n",
       "      <td>590</td>\n",
       "    </tr>\n",
       "    <tr>\n",
       "      <th>1</th>\n",
       "      <td>2.0</td>\n",
       "      <td>Singapore</td>\n",
       "      <td>551</td>\n",
       "    </tr>\n",
       "    <tr>\n",
       "      <th>2</th>\n",
       "      <td>3.0</td>\n",
       "      <td>Macao</td>\n",
       "      <td>544</td>\n",
       "    </tr>\n",
       "    <tr>\n",
       "      <th>3</th>\n",
       "      <td>4.0</td>\n",
       "      <td>Estonia</td>\n",
       "      <td>530</td>\n",
       "    </tr>\n",
       "    <tr>\n",
       "      <th>4</th>\n",
       "      <td>5.0</td>\n",
       "      <td>Japan</td>\n",
       "      <td>529</td>\n",
       "    </tr>\n",
       "  </tbody>\n",
       "</table>\n",
       "</div>"
      ],
      "text/plain": [
       "   Rank                                       Country  Science\n",
       "0   1.0  China (Beijing, Shanghai, Jiangsu, Zhejiang)      590\n",
       "1   2.0                                     Singapore      551\n",
       "2   3.0                                         Macao      544\n",
       "3   4.0                                       Estonia      530\n",
       "4   5.0                                         Japan      529"
      ]
     },
     "execution_count": 7,
     "metadata": {},
     "output_type": "execute_result"
    }
   ],
   "source": [
    "df_sci.head()"
   ]
  },
  {
   "cell_type": "code",
   "execution_count": 8,
   "id": "33384304-be05-42c0-88a1-58986e5ee0ef",
   "metadata": {},
   "outputs": [],
   "source": [
    "df_maths = pd.read_excel(\"pisascore2018.xlsx\", sheet_name=\"Maths\")"
   ]
  },
  {
   "cell_type": "code",
   "execution_count": 9,
   "id": "ad55d641-4f1a-4ebb-b8d7-ef5d9ab1b3cd",
   "metadata": {},
   "outputs": [],
   "source": [
    "df_reading = pd.read_excel(\"pisascore2018.xlsx\", sheet_name=\"Reading\")"
   ]
  },
  {
   "cell_type": "code",
   "execution_count": 10,
   "id": "50217923-6462-4623-b75f-2bdaa91f8da6",
   "metadata": {},
   "outputs": [],
   "source": [
    "# specify as None\n",
    "df_none = pd.read_excel(\"pisascore2018.xlsx\", sheet_name=None)"
   ]
  },
  {
   "cell_type": "markdown",
   "id": "14f2934b-e566-4a77-b70b-842796c9201f",
   "metadata": {},
   "source": [
    "Specifying \"None\" will get all sheets"
   ]
  },
  {
   "cell_type": "markdown",
   "id": "0eca34e2-29f0-4db9-8902-5ee549171715",
   "metadata": {},
   "source": [
    "## <b>File Merging</b>"
   ]
  },
  {
   "cell_type": "markdown",
   "id": "0b78c81a-0cc7-43ce-b237-d8899c9dd405",
   "metadata": {},
   "source": [
    "### Method 1"
   ]
  },
  {
   "cell_type": "code",
   "execution_count": 15,
   "id": "1e85d754-0993-4246-901e-36afa7945a8c",
   "metadata": {},
   "outputs": [],
   "source": [
    "pisa = pd.merge(df_sci, df_maths, on=\"Country\")"
   ]
  },
  {
   "cell_type": "code",
   "execution_count": 16,
   "id": "696f3b2b-d3a4-4008-a2e9-2bf76c68ed06",
   "metadata": {},
   "outputs": [],
   "source": [
    "pisa = pd.merge(pisa, df_reading, on=\"Country\")"
   ]
  },
  {
   "cell_type": "code",
   "execution_count": 17,
   "id": "385d2963-c635-4a8c-880c-cf6ec8fab824",
   "metadata": {},
   "outputs": [
    {
     "data": {
      "text/html": [
       "<div>\n",
       "<style scoped>\n",
       "    .dataframe tbody tr th:only-of-type {\n",
       "        vertical-align: middle;\n",
       "    }\n",
       "\n",
       "    .dataframe tbody tr th {\n",
       "        vertical-align: top;\n",
       "    }\n",
       "\n",
       "    .dataframe thead th {\n",
       "        text-align: right;\n",
       "    }\n",
       "</style>\n",
       "<table border=\"1\" class=\"dataframe\">\n",
       "  <thead>\n",
       "    <tr style=\"text-align: right;\">\n",
       "      <th></th>\n",
       "      <th>Rank_x</th>\n",
       "      <th>Country</th>\n",
       "      <th>Science</th>\n",
       "      <th>Rank_y</th>\n",
       "      <th>Maths</th>\n",
       "      <th>Rank</th>\n",
       "      <th>Reading</th>\n",
       "    </tr>\n",
       "  </thead>\n",
       "  <tbody>\n",
       "    <tr>\n",
       "      <th>0</th>\n",
       "      <td>1.0</td>\n",
       "      <td>China (Beijing, Shanghai, Jiangsu, Zhejiang)</td>\n",
       "      <td>590</td>\n",
       "      <td>1.0</td>\n",
       "      <td>591</td>\n",
       "      <td>1.0</td>\n",
       "      <td>555</td>\n",
       "    </tr>\n",
       "    <tr>\n",
       "      <th>1</th>\n",
       "      <td>2.0</td>\n",
       "      <td>Singapore</td>\n",
       "      <td>551</td>\n",
       "      <td>2.0</td>\n",
       "      <td>569</td>\n",
       "      <td>2.0</td>\n",
       "      <td>549</td>\n",
       "    </tr>\n",
       "    <tr>\n",
       "      <th>2</th>\n",
       "      <td>3.0</td>\n",
       "      <td>Macao</td>\n",
       "      <td>544</td>\n",
       "      <td>3.0</td>\n",
       "      <td>558</td>\n",
       "      <td>3.0</td>\n",
       "      <td>525</td>\n",
       "    </tr>\n",
       "    <tr>\n",
       "      <th>3</th>\n",
       "      <td>4.0</td>\n",
       "      <td>Estonia</td>\n",
       "      <td>530</td>\n",
       "      <td>8.0</td>\n",
       "      <td>523</td>\n",
       "      <td>5.0</td>\n",
       "      <td>523</td>\n",
       "    </tr>\n",
       "    <tr>\n",
       "      <th>4</th>\n",
       "      <td>5.0</td>\n",
       "      <td>Japan</td>\n",
       "      <td>529</td>\n",
       "      <td>6.0</td>\n",
       "      <td>527</td>\n",
       "      <td>14.0</td>\n",
       "      <td>504</td>\n",
       "    </tr>\n",
       "  </tbody>\n",
       "</table>\n",
       "</div>"
      ],
      "text/plain": [
       "   Rank_x                                       Country  Science  Rank_y  \\\n",
       "0     1.0  China (Beijing, Shanghai, Jiangsu, Zhejiang)      590     1.0   \n",
       "1     2.0                                     Singapore      551     2.0   \n",
       "2     3.0                                         Macao      544     3.0   \n",
       "3     4.0                                       Estonia      530     8.0   \n",
       "4     5.0                                         Japan      529     6.0   \n",
       "\n",
       "   Maths  Rank  Reading  \n",
       "0    591   1.0      555  \n",
       "1    569   2.0      549  \n",
       "2    558   3.0      525  \n",
       "3    523   5.0      523  \n",
       "4    527  14.0      504  "
      ]
     },
     "execution_count": 17,
     "metadata": {},
     "output_type": "execute_result"
    }
   ],
   "source": [
    "pisa.head()"
   ]
  },
  {
   "cell_type": "markdown",
   "id": "b4cd1118-8ebb-4e89-8c1f-5b21ae65c029",
   "metadata": {},
   "source": [
    "### Method 2"
   ]
  },
  {
   "cell_type": "code",
   "execution_count": 19,
   "id": "a065b4ab-a845-4189-8be0-5dcb18323242",
   "metadata": {},
   "outputs": [],
   "source": [
    "# by using df_none\n",
    "pisa = pd.merge(df_none[\"Sci\"][[\"Country\", \"Science\"]], \n",
    "               df_none[\"Maths\"][[\"Country\", \"Maths\"]])"
   ]
  },
  {
   "cell_type": "code",
   "execution_count": 21,
   "id": "1ae58b1b-6a3f-435a-9149-3e6767332415",
   "metadata": {},
   "outputs": [],
   "source": [
    "pisa = pd.merge(pisa, \n",
    "               df_none[\"Reading\"][[\"Country\", \"Reading\"]])"
   ]
  },
  {
   "cell_type": "code",
   "execution_count": 22,
   "id": "4ce812a1-c0a4-427b-b4d3-cdfb629cdc4b",
   "metadata": {},
   "outputs": [
    {
     "data": {
      "text/html": [
       "<div>\n",
       "<style scoped>\n",
       "    .dataframe tbody tr th:only-of-type {\n",
       "        vertical-align: middle;\n",
       "    }\n",
       "\n",
       "    .dataframe tbody tr th {\n",
       "        vertical-align: top;\n",
       "    }\n",
       "\n",
       "    .dataframe thead th {\n",
       "        text-align: right;\n",
       "    }\n",
       "</style>\n",
       "<table border=\"1\" class=\"dataframe\">\n",
       "  <thead>\n",
       "    <tr style=\"text-align: right;\">\n",
       "      <th></th>\n",
       "      <th>Country</th>\n",
       "      <th>Science</th>\n",
       "      <th>Maths</th>\n",
       "      <th>Reading</th>\n",
       "    </tr>\n",
       "  </thead>\n",
       "  <tbody>\n",
       "    <tr>\n",
       "      <th>0</th>\n",
       "      <td>China (Beijing, Shanghai, Jiangsu, Zhejiang)</td>\n",
       "      <td>590</td>\n",
       "      <td>591</td>\n",
       "      <td>555</td>\n",
       "    </tr>\n",
       "    <tr>\n",
       "      <th>1</th>\n",
       "      <td>Singapore</td>\n",
       "      <td>551</td>\n",
       "      <td>569</td>\n",
       "      <td>549</td>\n",
       "    </tr>\n",
       "    <tr>\n",
       "      <th>2</th>\n",
       "      <td>Macao</td>\n",
       "      <td>544</td>\n",
       "      <td>558</td>\n",
       "      <td>525</td>\n",
       "    </tr>\n",
       "    <tr>\n",
       "      <th>3</th>\n",
       "      <td>Estonia</td>\n",
       "      <td>530</td>\n",
       "      <td>523</td>\n",
       "      <td>523</td>\n",
       "    </tr>\n",
       "    <tr>\n",
       "      <th>4</th>\n",
       "      <td>Japan</td>\n",
       "      <td>529</td>\n",
       "      <td>527</td>\n",
       "      <td>504</td>\n",
       "    </tr>\n",
       "  </tbody>\n",
       "</table>\n",
       "</div>"
      ],
      "text/plain": [
       "                                        Country  Science  Maths  Reading\n",
       "0  China (Beijing, Shanghai, Jiangsu, Zhejiang)      590    591      555\n",
       "1                                     Singapore      551    569      549\n",
       "2                                         Macao      544    558      525\n",
       "3                                       Estonia      530    523      523\n",
       "4                                         Japan      529    527      504"
      ]
     },
     "execution_count": 22,
     "metadata": {},
     "output_type": "execute_result"
    }
   ],
   "source": [
    "pisa.head()"
   ]
  },
  {
   "cell_type": "markdown",
   "id": "d2e2077a-3980-4d56-9dfe-4212f19267de",
   "metadata": {},
   "source": [
    "## <b>Others</b>"
   ]
  },
  {
   "cell_type": "code",
   "execution_count": 25,
   "id": "56f239a0-1532-4572-9045-1f4c146055f8",
   "metadata": {},
   "outputs": [],
   "source": [
    "# create a new column that sums science, math and reading scores\n",
    "pisa[\"Total\"] = pisa[[\"Reading\", \"Maths\", \"Science\"]].sum(axis=1)"
   ]
  },
  {
   "cell_type": "code",
   "execution_count": 26,
   "id": "afc6662f-da6f-45cb-ac4b-f5c73d3698d0",
   "metadata": {},
   "outputs": [
    {
     "data": {
      "text/html": [
       "<div>\n",
       "<style scoped>\n",
       "    .dataframe tbody tr th:only-of-type {\n",
       "        vertical-align: middle;\n",
       "    }\n",
       "\n",
       "    .dataframe tbody tr th {\n",
       "        vertical-align: top;\n",
       "    }\n",
       "\n",
       "    .dataframe thead th {\n",
       "        text-align: right;\n",
       "    }\n",
       "</style>\n",
       "<table border=\"1\" class=\"dataframe\">\n",
       "  <thead>\n",
       "    <tr style=\"text-align: right;\">\n",
       "      <th></th>\n",
       "      <th>Country</th>\n",
       "      <th>Science</th>\n",
       "      <th>Maths</th>\n",
       "      <th>Reading</th>\n",
       "      <th>Total</th>\n",
       "    </tr>\n",
       "  </thead>\n",
       "  <tbody>\n",
       "    <tr>\n",
       "      <th>0</th>\n",
       "      <td>China (Beijing, Shanghai, Jiangsu, Zhejiang)</td>\n",
       "      <td>590</td>\n",
       "      <td>591</td>\n",
       "      <td>555</td>\n",
       "      <td>1736</td>\n",
       "    </tr>\n",
       "    <tr>\n",
       "      <th>1</th>\n",
       "      <td>Singapore</td>\n",
       "      <td>551</td>\n",
       "      <td>569</td>\n",
       "      <td>549</td>\n",
       "      <td>1669</td>\n",
       "    </tr>\n",
       "    <tr>\n",
       "      <th>2</th>\n",
       "      <td>Macao</td>\n",
       "      <td>544</td>\n",
       "      <td>558</td>\n",
       "      <td>525</td>\n",
       "      <td>1627</td>\n",
       "    </tr>\n",
       "    <tr>\n",
       "      <th>3</th>\n",
       "      <td>Estonia</td>\n",
       "      <td>530</td>\n",
       "      <td>523</td>\n",
       "      <td>523</td>\n",
       "      <td>1576</td>\n",
       "    </tr>\n",
       "    <tr>\n",
       "      <th>4</th>\n",
       "      <td>Japan</td>\n",
       "      <td>529</td>\n",
       "      <td>527</td>\n",
       "      <td>504</td>\n",
       "      <td>1560</td>\n",
       "    </tr>\n",
       "  </tbody>\n",
       "</table>\n",
       "</div>"
      ],
      "text/plain": [
       "                                        Country  Science  Maths  Reading  \\\n",
       "0  China (Beijing, Shanghai, Jiangsu, Zhejiang)      590    591      555   \n",
       "1                                     Singapore      551    569      549   \n",
       "2                                         Macao      544    558      525   \n",
       "3                                       Estonia      530    523      523   \n",
       "4                                         Japan      529    527      504   \n",
       "\n",
       "   Total  \n",
       "0   1736  \n",
       "1   1669  \n",
       "2   1627  \n",
       "3   1576  \n",
       "4   1560  "
      ]
     },
     "execution_count": 26,
     "metadata": {},
     "output_type": "execute_result"
    }
   ],
   "source": [
    "pisa.head()"
   ]
  },
  {
   "cell_type": "code",
   "execution_count": null,
   "id": "17b781a5-1b45-45c2-8e9f-6d4ba86e8316",
   "metadata": {},
   "outputs": [],
   "source": []
  }
 ],
 "metadata": {
  "kernelspec": {
   "display_name": "Python 3 (ipykernel)",
   "language": "python",
   "name": "python3"
  },
  "language_info": {
   "codemirror_mode": {
    "name": "ipython",
    "version": 3
   },
   "file_extension": ".py",
   "mimetype": "text/x-python",
   "name": "python",
   "nbconvert_exporter": "python",
   "pygments_lexer": "ipython3",
   "version": "3.9.12"
  }
 },
 "nbformat": 4,
 "nbformat_minor": 5
}
