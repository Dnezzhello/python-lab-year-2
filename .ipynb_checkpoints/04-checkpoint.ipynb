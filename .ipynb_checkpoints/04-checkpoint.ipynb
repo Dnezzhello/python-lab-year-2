{
 "cells": [
  {
   "cell_type": "code",
   "execution_count": 1,
   "id": "1fc2975f-635a-4c32-9e0b-994dd48e1106",
   "metadata": {},
   "outputs": [],
   "source": [
    "import pandas as pd\n",
    "import seaborn as sns\n",
    "import matplotlib.pyplot as plt"
   ]
  },
  {
   "cell_type": "code",
   "execution_count": 2,
   "id": "ea564d50-b089-48a7-ad30-7dd9e0921267",
   "metadata": {},
   "outputs": [],
   "source": [
    "pd.set_option(\"display.max_rows\", 10)"
   ]
  },
  {
   "cell_type": "code",
   "execution_count": 3,
   "id": "b0fee3cc-ab5e-4cb1-88fa-d0462b117a9b",
   "metadata": {},
   "outputs": [],
   "source": [
    "col_names = \"Year, Month, Day, UTC Hour, PM2.5, PM10_mask, Retrospective\".split(\", \")"
   ]
  },
  {
   "cell_type": "code",
   "execution_count": 4,
   "id": "df513278-418f-4e1b-8e27-9627f920cc88",
   "metadata": {},
   "outputs": [
    {
     "data": {
      "text/plain": [
       "['Year', 'Month', 'Day', 'UTC Hour', 'PM2.5', 'PM10_mask', 'Retrospective']"
      ]
     },
     "execution_count": 4,
     "metadata": {},
     "output_type": "execute_result"
    }
   ],
   "source": [
    "col_names"
   ]
  },
  {
   "cell_type": "code",
   "execution_count": 5,
   "id": "ac608b99-3495-4f01-8dae-d1964ef75422",
   "metadata": {},
   "outputs": [],
   "source": [
    "url = \"http://berkeleyearth.lbl.gov/air-quality/maps/cities/Laos/Vientiane_Prefecture/Vientiane.txt\"\n",
    "df = pd.read_csv(url, sep='\\t', skiprows=10, names=col_names)"
   ]
  },
  {
   "cell_type": "code",
   "execution_count": 6,
   "id": "073dad8f-e1ee-45e4-b7e0-55330b162928",
   "metadata": {},
   "outputs": [],
   "source": [
    "# drop PM10_mask, Retrospective column\n",
    "df.drop(columns=[\"PM10_mask\", \"Retrospective\"], axis=1, inplace=True)"
   ]
  },
  {
   "cell_type": "code",
   "execution_count": 7,
   "id": "345c3746-f4ca-42a3-9c5a-c94a10f07f53",
   "metadata": {},
   "outputs": [],
   "source": [
    "# rename UTC Hour column\n",
    "df.rename(columns={\"UTC Hour\":\"Hour\"}, inplace=True)"
   ]
  },
  {
   "cell_type": "code",
   "execution_count": 8,
   "id": "f29e020f-b085-4f27-871d-452f3227055f",
   "metadata": {},
   "outputs": [
    {
     "data": {
      "text/html": [
       "<div>\n",
       "<style scoped>\n",
       "    .dataframe tbody tr th:only-of-type {\n",
       "        vertical-align: middle;\n",
       "    }\n",
       "\n",
       "    .dataframe tbody tr th {\n",
       "        vertical-align: top;\n",
       "    }\n",
       "\n",
       "    .dataframe thead th {\n",
       "        text-align: right;\n",
       "    }\n",
       "</style>\n",
       "<table border=\"1\" class=\"dataframe\">\n",
       "  <thead>\n",
       "    <tr style=\"text-align: right;\">\n",
       "      <th></th>\n",
       "      <th>Year</th>\n",
       "      <th>Month</th>\n",
       "      <th>Day</th>\n",
       "      <th>Hour</th>\n",
       "      <th>PM2.5</th>\n",
       "    </tr>\n",
       "  </thead>\n",
       "  <tbody>\n",
       "    <tr>\n",
       "      <th>0</th>\n",
       "      <td>2016</td>\n",
       "      <td>12</td>\n",
       "      <td>6</td>\n",
       "      <td>4</td>\n",
       "      <td>39.6</td>\n",
       "    </tr>\n",
       "    <tr>\n",
       "      <th>1</th>\n",
       "      <td>2016</td>\n",
       "      <td>12</td>\n",
       "      <td>6</td>\n",
       "      <td>5</td>\n",
       "      <td>34.4</td>\n",
       "    </tr>\n",
       "    <tr>\n",
       "      <th>2</th>\n",
       "      <td>2016</td>\n",
       "      <td>12</td>\n",
       "      <td>6</td>\n",
       "      <td>6</td>\n",
       "      <td>35.3</td>\n",
       "    </tr>\n",
       "    <tr>\n",
       "      <th>3</th>\n",
       "      <td>2016</td>\n",
       "      <td>12</td>\n",
       "      <td>6</td>\n",
       "      <td>7</td>\n",
       "      <td>30.5</td>\n",
       "    </tr>\n",
       "    <tr>\n",
       "      <th>4</th>\n",
       "      <td>2016</td>\n",
       "      <td>12</td>\n",
       "      <td>6</td>\n",
       "      <td>8</td>\n",
       "      <td>33.2</td>\n",
       "    </tr>\n",
       "  </tbody>\n",
       "</table>\n",
       "</div>"
      ],
      "text/plain": [
       "   Year  Month  Day  Hour  PM2.5\n",
       "0  2016     12    6     4   39.6\n",
       "1  2016     12    6     5   34.4\n",
       "2  2016     12    6     6   35.3\n",
       "3  2016     12    6     7   30.5\n",
       "4  2016     12    6     8   33.2"
      ]
     },
     "execution_count": 8,
     "metadata": {},
     "output_type": "execute_result"
    }
   ],
   "source": [
    "df.head()"
   ]
  },
  {
   "cell_type": "code",
   "execution_count": 10,
   "id": "0e351b4d-10ed-4f8f-b621-c9486382e391",
   "metadata": {},
   "outputs": [],
   "source": [
    "# convert UTC into GMT+7\n",
    "df[\"DateTime\"] = pd.to_datetime(df[[\"Year\", \"Month\", \"Day\", \"Hour\"]]) + pd.to_timedelta(7, unit=\"h\")"
   ]
  },
  {
   "cell_type": "code",
   "execution_count": 11,
   "id": "2762e93f-f701-49fb-8df9-d8d4c62278d2",
   "metadata": {},
   "outputs": [],
   "source": [
    "df.Year = df[\"DateTime\"].dt.year\n",
    "df.Month = df[\"DateTime\"].dt.month\n",
    "df.Day = df[\"DateTime\"].dt.day\n",
    "df.Hour = df[\"DateTime\"].dt.hour"
   ]
  },
  {
   "cell_type": "code",
   "execution_count": 14,
   "id": "a68ee3c3-6797-4edb-ac78-7b5e82b728c8",
   "metadata": {},
   "outputs": [
    {
     "data": {
      "text/plain": [
       "0        1\n",
       "1        1\n",
       "2        1\n",
       "3        1\n",
       "4        1\n",
       "        ..\n",
       "31934    0\n",
       "31935    0\n",
       "31936    0\n",
       "31937    0\n",
       "31938    0\n",
       "Name: DateTime, Length: 31939, dtype: int64"
      ]
     },
     "execution_count": 14,
     "metadata": {},
     "output_type": "execute_result"
    }
   ],
   "source": [
    "df[\"DateTime\"].dt.dayofweek"
   ]
  },
  {
   "cell_type": "code",
   "execution_count": 15,
   "id": "ef6391fc-cd4c-4100-b7f0-d60919f1600c",
   "metadata": {},
   "outputs": [],
   "source": [
    "# extract days names from DateTime column\n",
    "df[\"DayName\"] = df[\"DateTime\"].dt.strftime(\"%a\")"
   ]
  },
  {
   "cell_type": "code",
   "execution_count": 16,
   "id": "b88764c6-85f7-4c21-9ff2-ea013b9fb17d",
   "metadata": {},
   "outputs": [
    {
     "data": {
      "text/html": [
       "<div>\n",
       "<style scoped>\n",
       "    .dataframe tbody tr th:only-of-type {\n",
       "        vertical-align: middle;\n",
       "    }\n",
       "\n",
       "    .dataframe tbody tr th {\n",
       "        vertical-align: top;\n",
       "    }\n",
       "\n",
       "    .dataframe thead th {\n",
       "        text-align: right;\n",
       "    }\n",
       "</style>\n",
       "<table border=\"1\" class=\"dataframe\">\n",
       "  <thead>\n",
       "    <tr style=\"text-align: right;\">\n",
       "      <th></th>\n",
       "      <th>Year</th>\n",
       "      <th>Month</th>\n",
       "      <th>Day</th>\n",
       "      <th>Hour</th>\n",
       "      <th>PM2.5</th>\n",
       "      <th>DateTime</th>\n",
       "      <th>DayName</th>\n",
       "    </tr>\n",
       "  </thead>\n",
       "  <tbody>\n",
       "    <tr>\n",
       "      <th>0</th>\n",
       "      <td>2016</td>\n",
       "      <td>12</td>\n",
       "      <td>6</td>\n",
       "      <td>11</td>\n",
       "      <td>39.6</td>\n",
       "      <td>2016-12-06 11:00:00</td>\n",
       "      <td>Tue</td>\n",
       "    </tr>\n",
       "    <tr>\n",
       "      <th>1</th>\n",
       "      <td>2016</td>\n",
       "      <td>12</td>\n",
       "      <td>6</td>\n",
       "      <td>12</td>\n",
       "      <td>34.4</td>\n",
       "      <td>2016-12-06 12:00:00</td>\n",
       "      <td>Tue</td>\n",
       "    </tr>\n",
       "    <tr>\n",
       "      <th>2</th>\n",
       "      <td>2016</td>\n",
       "      <td>12</td>\n",
       "      <td>6</td>\n",
       "      <td>13</td>\n",
       "      <td>35.3</td>\n",
       "      <td>2016-12-06 13:00:00</td>\n",
       "      <td>Tue</td>\n",
       "    </tr>\n",
       "    <tr>\n",
       "      <th>3</th>\n",
       "      <td>2016</td>\n",
       "      <td>12</td>\n",
       "      <td>6</td>\n",
       "      <td>14</td>\n",
       "      <td>30.5</td>\n",
       "      <td>2016-12-06 14:00:00</td>\n",
       "      <td>Tue</td>\n",
       "    </tr>\n",
       "    <tr>\n",
       "      <th>4</th>\n",
       "      <td>2016</td>\n",
       "      <td>12</td>\n",
       "      <td>6</td>\n",
       "      <td>15</td>\n",
       "      <td>33.2</td>\n",
       "      <td>2016-12-06 15:00:00</td>\n",
       "      <td>Tue</td>\n",
       "    </tr>\n",
       "  </tbody>\n",
       "</table>\n",
       "</div>"
      ],
      "text/plain": [
       "   Year  Month  Day  Hour  PM2.5            DateTime DayName\n",
       "0  2016     12    6    11   39.6 2016-12-06 11:00:00     Tue\n",
       "1  2016     12    6    12   34.4 2016-12-06 12:00:00     Tue\n",
       "2  2016     12    6    13   35.3 2016-12-06 13:00:00     Tue\n",
       "3  2016     12    6    14   30.5 2016-12-06 14:00:00     Tue\n",
       "4  2016     12    6    15   33.2 2016-12-06 15:00:00     Tue"
      ]
     },
     "execution_count": 16,
     "metadata": {},
     "output_type": "execute_result"
    }
   ],
   "source": [
    "df.head()"
   ]
  },
  {
   "cell_type": "code",
   "execution_count": null,
   "id": "eb3b200f-5753-498c-aa0c-74f6f6e84839",
   "metadata": {},
   "outputs": [],
   "source": []
  },
  {
   "cell_type": "code",
   "execution_count": null,
   "id": "bc4978d2-9295-4448-a323-132d9b2cdfa3",
   "metadata": {},
   "outputs": [],
   "source": []
  },
  {
   "cell_type": "code",
   "execution_count": null,
   "id": "87d04216-bff6-4c6a-84c3-a8ba8e916fc2",
   "metadata": {},
   "outputs": [],
   "source": []
  }
 ],
 "metadata": {
  "kernelspec": {
   "display_name": "Python 3 (ipykernel)",
   "language": "python",
   "name": "python3"
  },
  "language_info": {
   "codemirror_mode": {
    "name": "ipython",
    "version": 3
   },
   "file_extension": ".py",
   "mimetype": "text/x-python",
   "name": "python",
   "nbconvert_exporter": "python",
   "pygments_lexer": "ipython3",
   "version": "3.9.12"
  }
 },
 "nbformat": 4,
 "nbformat_minor": 5
}
