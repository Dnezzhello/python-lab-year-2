{
 "cells": [
  {
   "cell_type": "code",
   "execution_count": 1,
   "id": "9bd5f3bc-e02a-4c45-b2d5-48877c69d4c8",
   "metadata": {},
   "outputs": [],
   "source": [
    "import numpy as np, pandas as pd"
   ]
  },
  {
   "cell_type": "code",
   "execution_count": 2,
   "id": "347fa7dc-030f-4995-9517-3adeeda267f6",
   "metadata": {},
   "outputs": [],
   "source": [
    "df = pd.read_csv(\"StudentMark.csv\")"
   ]
  },
  {
   "cell_type": "code",
   "execution_count": 3,
   "id": "7056fd1a-81a7-43a5-abe0-5902e0eee1bc",
   "metadata": {},
   "outputs": [
    {
     "data": {
      "text/html": [
       "<div>\n",
       "<style scoped>\n",
       "    .dataframe tbody tr th:only-of-type {\n",
       "        vertical-align: middle;\n",
       "    }\n",
       "\n",
       "    .dataframe tbody tr th {\n",
       "        vertical-align: top;\n",
       "    }\n",
       "\n",
       "    .dataframe thead th {\n",
       "        text-align: right;\n",
       "    }\n",
       "</style>\n",
       "<table border=\"1\" class=\"dataframe\">\n",
       "  <thead>\n",
       "    <tr style=\"text-align: right;\">\n",
       "      <th></th>\n",
       "      <th>Gender</th>\n",
       "      <th>Attendent</th>\n",
       "      <th>Lecture</th>\n",
       "      <th>Lab</th>\n",
       "      <th>Grade</th>\n",
       "      <th>Unnamed: 5</th>\n",
       "      <th>Unnamed: 6</th>\n",
       "      <th>Unnamed: 7</th>\n",
       "    </tr>\n",
       "  </thead>\n",
       "  <tbody>\n",
       "    <tr>\n",
       "      <th>0</th>\n",
       "      <td>ພຣະ</td>\n",
       "      <td>10</td>\n",
       "      <td>29.0</td>\n",
       "      <td>24</td>\n",
       "      <td>C</td>\n",
       "      <td>NaN</td>\n",
       "      <td>NaN</td>\n",
       "      <td>NaN</td>\n",
       "    </tr>\n",
       "    <tr>\n",
       "      <th>1</th>\n",
       "      <td>ນາງ</td>\n",
       "      <td>2</td>\n",
       "      <td>0.0</td>\n",
       "      <td>0</td>\n",
       "      <td>F</td>\n",
       "      <td>NaN</td>\n",
       "      <td>NaN</td>\n",
       "      <td>NaN</td>\n",
       "    </tr>\n",
       "    <tr>\n",
       "      <th>2</th>\n",
       "      <td>ນາງ</td>\n",
       "      <td>10</td>\n",
       "      <td>31.0</td>\n",
       "      <td>27</td>\n",
       "      <td>C+</td>\n",
       "      <td>NaN</td>\n",
       "      <td>NaN</td>\n",
       "      <td>NaN</td>\n",
       "    </tr>\n",
       "    <tr>\n",
       "      <th>3</th>\n",
       "      <td>ນາງ</td>\n",
       "      <td>10</td>\n",
       "      <td>49.0</td>\n",
       "      <td>38</td>\n",
       "      <td>A</td>\n",
       "      <td>NaN</td>\n",
       "      <td>NaN</td>\n",
       "      <td>NaN</td>\n",
       "    </tr>\n",
       "    <tr>\n",
       "      <th>4</th>\n",
       "      <td>ນາງ</td>\n",
       "      <td>10</td>\n",
       "      <td>31.0</td>\n",
       "      <td>29</td>\n",
       "      <td>B</td>\n",
       "      <td>NaN</td>\n",
       "      <td>NaN</td>\n",
       "      <td>NaN</td>\n",
       "    </tr>\n",
       "  </tbody>\n",
       "</table>\n",
       "</div>"
      ],
      "text/plain": [
       "  Gender  Attendent  Lecture  Lab Grade  Unnamed: 5  Unnamed: 6  Unnamed: 7\n",
       "0    ພຣະ         10     29.0   24     C         NaN         NaN         NaN\n",
       "1    ນາງ          2      0.0    0     F         NaN         NaN         NaN\n",
       "2    ນາງ         10     31.0   27    C+         NaN         NaN         NaN\n",
       "3    ນາງ         10     49.0   38     A         NaN         NaN         NaN\n",
       "4    ນາງ         10     31.0   29     B         NaN         NaN         NaN"
      ]
     },
     "execution_count": 3,
     "metadata": {},
     "output_type": "execute_result"
    }
   ],
   "source": [
    "df.head()"
   ]
  },
  {
   "cell_type": "code",
   "execution_count": 4,
   "id": "c4f2d1ce-daed-4cca-bee4-0d6c7a413d33",
   "metadata": {},
   "outputs": [
    {
     "name": "stdout",
     "output_type": "stream",
     "text": [
      "<class 'pandas.core.frame.DataFrame'>\n",
      "RangeIndex: 34 entries, 0 to 33\n",
      "Data columns (total 8 columns):\n",
      " #   Column      Non-Null Count  Dtype  \n",
      "---  ------      --------------  -----  \n",
      " 0   Gender      34 non-null     object \n",
      " 1   Attendent   34 non-null     int64  \n",
      " 2   Lecture     33 non-null     float64\n",
      " 3   Lab         34 non-null     int64  \n",
      " 4   Grade       34 non-null     object \n",
      " 5   Unnamed: 5  0 non-null      float64\n",
      " 6   Unnamed: 6  0 non-null      float64\n",
      " 7   Unnamed: 7  0 non-null      float64\n",
      "dtypes: float64(4), int64(2), object(2)\n",
      "memory usage: 2.2+ KB\n"
     ]
    }
   ],
   "source": [
    "df.info()"
   ]
  },
  {
   "cell_type": "code",
   "execution_count": 5,
   "id": "6edb92fe-d845-4db9-86bc-d6231b7c8cfc",
   "metadata": {},
   "outputs": [
    {
     "name": "stdout",
     "output_type": "stream",
     "text": [
      "Gender : 0\n",
      "Attendent : 0\n",
      "Lecture : 1\n",
      "Lab : 0\n",
      "Grade : 0\n",
      "Unnamed: 5 : 34\n",
      "Unnamed: 6 : 34\n",
      "Unnamed: 7 : 34\n"
     ]
    }
   ],
   "source": [
    "#check how many nulls are there in each feature\n",
    "for col in df.columns:\n",
    "    print(f\"{col} : {df[col].isnull().sum()}\")"
   ]
  },
  {
   "cell_type": "code",
   "execution_count": 6,
   "id": "84658078-6135-4557-bea2-87c4d2ec653f",
   "metadata": {},
   "outputs": [],
   "source": [
    "#select only features containing at least one non-null\n",
    "df = df.loc[:, df.notnull().any()]"
   ]
  },
  {
   "cell_type": "code",
   "execution_count": 7,
   "id": "645bc93d-94f1-4711-b5de-688d83dbcb5d",
   "metadata": {},
   "outputs": [
    {
     "data": {
      "text/html": [
       "<div>\n",
       "<style scoped>\n",
       "    .dataframe tbody tr th:only-of-type {\n",
       "        vertical-align: middle;\n",
       "    }\n",
       "\n",
       "    .dataframe tbody tr th {\n",
       "        vertical-align: top;\n",
       "    }\n",
       "\n",
       "    .dataframe thead th {\n",
       "        text-align: right;\n",
       "    }\n",
       "</style>\n",
       "<table border=\"1\" class=\"dataframe\">\n",
       "  <thead>\n",
       "    <tr style=\"text-align: right;\">\n",
       "      <th></th>\n",
       "      <th>Gender</th>\n",
       "      <th>Attendent</th>\n",
       "      <th>Lecture</th>\n",
       "      <th>Lab</th>\n",
       "      <th>Grade</th>\n",
       "    </tr>\n",
       "  </thead>\n",
       "  <tbody>\n",
       "    <tr>\n",
       "      <th>0</th>\n",
       "      <td>ພຣະ</td>\n",
       "      <td>10</td>\n",
       "      <td>29.0</td>\n",
       "      <td>24</td>\n",
       "      <td>C</td>\n",
       "    </tr>\n",
       "    <tr>\n",
       "      <th>1</th>\n",
       "      <td>ນາງ</td>\n",
       "      <td>2</td>\n",
       "      <td>0.0</td>\n",
       "      <td>0</td>\n",
       "      <td>F</td>\n",
       "    </tr>\n",
       "    <tr>\n",
       "      <th>2</th>\n",
       "      <td>ນາງ</td>\n",
       "      <td>10</td>\n",
       "      <td>31.0</td>\n",
       "      <td>27</td>\n",
       "      <td>C+</td>\n",
       "    </tr>\n",
       "    <tr>\n",
       "      <th>3</th>\n",
       "      <td>ນາງ</td>\n",
       "      <td>10</td>\n",
       "      <td>49.0</td>\n",
       "      <td>38</td>\n",
       "      <td>A</td>\n",
       "    </tr>\n",
       "    <tr>\n",
       "      <th>4</th>\n",
       "      <td>ນາງ</td>\n",
       "      <td>10</td>\n",
       "      <td>31.0</td>\n",
       "      <td>29</td>\n",
       "      <td>B</td>\n",
       "    </tr>\n",
       "  </tbody>\n",
       "</table>\n",
       "</div>"
      ],
      "text/plain": [
       "  Gender  Attendent  Lecture  Lab Grade\n",
       "0    ພຣະ         10     29.0   24     C\n",
       "1    ນາງ          2      0.0    0     F\n",
       "2    ນາງ         10     31.0   27    C+\n",
       "3    ນາງ         10     49.0   38     A\n",
       "4    ນາງ         10     31.0   29     B"
      ]
     },
     "execution_count": 7,
     "metadata": {},
     "output_type": "execute_result"
    }
   ],
   "source": [
    "df.head()"
   ]
  },
  {
   "cell_type": "code",
   "execution_count": 8,
   "id": "71945e2c-456a-4869-abe4-162b650a50cc",
   "metadata": {},
   "outputs": [],
   "source": [
    "# convert \"ທ້າວ\", \"ພຣະ\" and \"ນາງ\" into \"M\", \"M\" and \"F\", respectively.\n",
    "df[\"Gender\"] = df[\"Gender\"].map({\"ພຣະ\":\"M\", \"ທ້າວ\":\"M\", \"ນາງ\":\"F\"})"
   ]
  },
  {
   "cell_type": "code",
   "execution_count": 9,
   "id": "af85b552-3e80-48e8-8f1d-7d3fd1bf03f7",
   "metadata": {},
   "outputs": [
    {
     "data": {
      "text/html": [
       "<div>\n",
       "<style scoped>\n",
       "    .dataframe tbody tr th:only-of-type {\n",
       "        vertical-align: middle;\n",
       "    }\n",
       "\n",
       "    .dataframe tbody tr th {\n",
       "        vertical-align: top;\n",
       "    }\n",
       "\n",
       "    .dataframe thead th {\n",
       "        text-align: right;\n",
       "    }\n",
       "</style>\n",
       "<table border=\"1\" class=\"dataframe\">\n",
       "  <thead>\n",
       "    <tr style=\"text-align: right;\">\n",
       "      <th></th>\n",
       "      <th>Gender</th>\n",
       "      <th>Attendent</th>\n",
       "      <th>Lecture</th>\n",
       "      <th>Lab</th>\n",
       "      <th>Grade</th>\n",
       "    </tr>\n",
       "  </thead>\n",
       "  <tbody>\n",
       "    <tr>\n",
       "      <th>0</th>\n",
       "      <td>M</td>\n",
       "      <td>10</td>\n",
       "      <td>29.0</td>\n",
       "      <td>24</td>\n",
       "      <td>C</td>\n",
       "    </tr>\n",
       "    <tr>\n",
       "      <th>1</th>\n",
       "      <td>F</td>\n",
       "      <td>2</td>\n",
       "      <td>0.0</td>\n",
       "      <td>0</td>\n",
       "      <td>F</td>\n",
       "    </tr>\n",
       "    <tr>\n",
       "      <th>2</th>\n",
       "      <td>F</td>\n",
       "      <td>10</td>\n",
       "      <td>31.0</td>\n",
       "      <td>27</td>\n",
       "      <td>C+</td>\n",
       "    </tr>\n",
       "    <tr>\n",
       "      <th>3</th>\n",
       "      <td>F</td>\n",
       "      <td>10</td>\n",
       "      <td>49.0</td>\n",
       "      <td>38</td>\n",
       "      <td>A</td>\n",
       "    </tr>\n",
       "    <tr>\n",
       "      <th>4</th>\n",
       "      <td>F</td>\n",
       "      <td>10</td>\n",
       "      <td>31.0</td>\n",
       "      <td>29</td>\n",
       "      <td>B</td>\n",
       "    </tr>\n",
       "  </tbody>\n",
       "</table>\n",
       "</div>"
      ],
      "text/plain": [
       "  Gender  Attendent  Lecture  Lab Grade\n",
       "0      M         10     29.0   24     C\n",
       "1      F          2      0.0    0     F\n",
       "2      F         10     31.0   27    C+\n",
       "3      F         10     49.0   38     A\n",
       "4      F         10     31.0   29     B"
      ]
     },
     "execution_count": 9,
     "metadata": {},
     "output_type": "execute_result"
    }
   ],
   "source": [
    "df.head()"
   ]
  },
  {
   "cell_type": "code",
   "execution_count": 10,
   "id": "5c4dccd7-27f3-4cc0-b4e5-d08ab480b0a8",
   "metadata": {},
   "outputs": [
    {
     "data": {
      "text/plain": [
       "Index(['Lecture'], dtype='object')"
      ]
     },
     "execution_count": 10,
     "metadata": {},
     "output_type": "execute_result"
    }
   ],
   "source": [
    "# find a column containing at least one null\n",
    "df.loc[:, df.isnull().any()].columns"
   ]
  },
  {
   "cell_type": "code",
   "execution_count": 11,
   "id": "69e584ca-07bb-42eb-b0e9-175fe2839917",
   "metadata": {},
   "outputs": [],
   "source": [
    "# replace null with mean\n",
    "df.replace(np.nan, 0, inplace=True)"
   ]
  },
  {
   "cell_type": "code",
   "execution_count": 12,
   "id": "d54b42a6-352a-42a9-bf19-ecb427a6dfb6",
   "metadata": {},
   "outputs": [
    {
     "data": {
      "text/plain": [
       "Gender       0\n",
       "Attendent    0\n",
       "Lecture      0\n",
       "Lab          0\n",
       "Grade        0\n",
       "dtype: int64"
      ]
     },
     "execution_count": 12,
     "metadata": {},
     "output_type": "execute_result"
    }
   ],
   "source": [
    "df.isnull().sum()"
   ]
  },
  {
   "cell_type": "code",
   "execution_count": 13,
   "id": "29a59e97-ec21-4ade-bb3c-ca78e40c2546",
   "metadata": {},
   "outputs": [
    {
     "data": {
      "text/html": [
       "<div>\n",
       "<style scoped>\n",
       "    .dataframe tbody tr th:only-of-type {\n",
       "        vertical-align: middle;\n",
       "    }\n",
       "\n",
       "    .dataframe tbody tr th {\n",
       "        vertical-align: top;\n",
       "    }\n",
       "\n",
       "    .dataframe thead th {\n",
       "        text-align: right;\n",
       "    }\n",
       "</style>\n",
       "<table border=\"1\" class=\"dataframe\">\n",
       "  <thead>\n",
       "    <tr style=\"text-align: right;\">\n",
       "      <th></th>\n",
       "      <th>Gender</th>\n",
       "      <th>Attendent</th>\n",
       "      <th>Lecture</th>\n",
       "      <th>Lab</th>\n",
       "      <th>Grade</th>\n",
       "      <th>Total</th>\n",
       "    </tr>\n",
       "  </thead>\n",
       "  <tbody>\n",
       "    <tr>\n",
       "      <th>0</th>\n",
       "      <td>M</td>\n",
       "      <td>10</td>\n",
       "      <td>29.0</td>\n",
       "      <td>24</td>\n",
       "      <td>C</td>\n",
       "      <td>63.0</td>\n",
       "    </tr>\n",
       "    <tr>\n",
       "      <th>1</th>\n",
       "      <td>F</td>\n",
       "      <td>2</td>\n",
       "      <td>0.0</td>\n",
       "      <td>0</td>\n",
       "      <td>F</td>\n",
       "      <td>2.0</td>\n",
       "    </tr>\n",
       "    <tr>\n",
       "      <th>2</th>\n",
       "      <td>F</td>\n",
       "      <td>10</td>\n",
       "      <td>31.0</td>\n",
       "      <td>27</td>\n",
       "      <td>C+</td>\n",
       "      <td>68.0</td>\n",
       "    </tr>\n",
       "    <tr>\n",
       "      <th>3</th>\n",
       "      <td>F</td>\n",
       "      <td>10</td>\n",
       "      <td>49.0</td>\n",
       "      <td>38</td>\n",
       "      <td>A</td>\n",
       "      <td>97.0</td>\n",
       "    </tr>\n",
       "    <tr>\n",
       "      <th>4</th>\n",
       "      <td>F</td>\n",
       "      <td>10</td>\n",
       "      <td>31.0</td>\n",
       "      <td>29</td>\n",
       "      <td>B</td>\n",
       "      <td>70.0</td>\n",
       "    </tr>\n",
       "  </tbody>\n",
       "</table>\n",
       "</div>"
      ],
      "text/plain": [
       "  Gender  Attendent  Lecture  Lab Grade  Total\n",
       "0      M         10     29.0   24     C   63.0\n",
       "1      F          2      0.0    0     F    2.0\n",
       "2      F         10     31.0   27    C+   68.0\n",
       "3      F         10     49.0   38     A   97.0\n",
       "4      F         10     31.0   29     B   70.0"
      ]
     },
     "execution_count": 13,
     "metadata": {},
     "output_type": "execute_result"
    }
   ],
   "source": [
    "# create a new column, \"Total\", that sums lecture, lab and grade columns up\n",
    "df[\"Total\"] = df[[\"Attendent\", \"Lecture\", \"Lab\"]].sum(axis=1)\n",
    "df.head()"
   ]
  },
  {
   "cell_type": "code",
   "execution_count": 14,
   "id": "76c200cd-8ed8-461f-b15b-82601899d21b",
   "metadata": {},
   "outputs": [],
   "source": [
    "# drop 'grade' column\n",
    "df.drop(columns=[\"Grade\"], inplace=True)"
   ]
  },
  {
   "cell_type": "code",
   "execution_count": 15,
   "id": "a3fce1c7-06b9-49a4-8a96-264af15fbabf",
   "metadata": {},
   "outputs": [],
   "source": [
    "# add a new column, \"grade\", that describes the Total column\n",
    "df[\"Comment\"] = np.where(df[\"Total\"] > 90, \"Excellent\", \n",
    "                      np.where(df.Total > 70, \"Better\",\n",
    "                              np.where(df.Total > 50, \"Good\", \"Fail\"\n",
    "                                      )\n",
    "                              )\n",
    "                      )"
   ]
  },
  {
   "cell_type": "code",
   "execution_count": 16,
   "id": "9dc8c031-e87c-4388-90e6-b9b14d52344b",
   "metadata": {},
   "outputs": [
    {
     "data": {
      "text/html": [
       "<div>\n",
       "<style scoped>\n",
       "    .dataframe tbody tr th:only-of-type {\n",
       "        vertical-align: middle;\n",
       "    }\n",
       "\n",
       "    .dataframe tbody tr th {\n",
       "        vertical-align: top;\n",
       "    }\n",
       "\n",
       "    .dataframe thead th {\n",
       "        text-align: right;\n",
       "    }\n",
       "</style>\n",
       "<table border=\"1\" class=\"dataframe\">\n",
       "  <thead>\n",
       "    <tr style=\"text-align: right;\">\n",
       "      <th></th>\n",
       "      <th>Gender</th>\n",
       "      <th>Attendent</th>\n",
       "      <th>Lecture</th>\n",
       "      <th>Lab</th>\n",
       "      <th>Total</th>\n",
       "      <th>Comment</th>\n",
       "    </tr>\n",
       "  </thead>\n",
       "  <tbody>\n",
       "    <tr>\n",
       "      <th>0</th>\n",
       "      <td>M</td>\n",
       "      <td>10</td>\n",
       "      <td>29.0</td>\n",
       "      <td>24</td>\n",
       "      <td>63.0</td>\n",
       "      <td>Good</td>\n",
       "    </tr>\n",
       "    <tr>\n",
       "      <th>1</th>\n",
       "      <td>F</td>\n",
       "      <td>2</td>\n",
       "      <td>0.0</td>\n",
       "      <td>0</td>\n",
       "      <td>2.0</td>\n",
       "      <td>Fail</td>\n",
       "    </tr>\n",
       "    <tr>\n",
       "      <th>2</th>\n",
       "      <td>F</td>\n",
       "      <td>10</td>\n",
       "      <td>31.0</td>\n",
       "      <td>27</td>\n",
       "      <td>68.0</td>\n",
       "      <td>Good</td>\n",
       "    </tr>\n",
       "    <tr>\n",
       "      <th>3</th>\n",
       "      <td>F</td>\n",
       "      <td>10</td>\n",
       "      <td>49.0</td>\n",
       "      <td>38</td>\n",
       "      <td>97.0</td>\n",
       "      <td>Excellent</td>\n",
       "    </tr>\n",
       "    <tr>\n",
       "      <th>4</th>\n",
       "      <td>F</td>\n",
       "      <td>10</td>\n",
       "      <td>31.0</td>\n",
       "      <td>29</td>\n",
       "      <td>70.0</td>\n",
       "      <td>Good</td>\n",
       "    </tr>\n",
       "  </tbody>\n",
       "</table>\n",
       "</div>"
      ],
      "text/plain": [
       "  Gender  Attendent  Lecture  Lab  Total    Comment\n",
       "0      M         10     29.0   24   63.0       Good\n",
       "1      F          2      0.0    0    2.0       Fail\n",
       "2      F         10     31.0   27   68.0       Good\n",
       "3      F         10     49.0   38   97.0  Excellent\n",
       "4      F         10     31.0   29   70.0       Good"
      ]
     },
     "execution_count": 16,
     "metadata": {},
     "output_type": "execute_result"
    }
   ],
   "source": [
    "df.head()"
   ]
  },
  {
   "cell_type": "code",
   "execution_count": 17,
   "id": "c903dcd3-f77d-4ee3-ae93-6d648b3d2642",
   "metadata": {},
   "outputs": [],
   "source": [
    "df.to_csv(\"final_student_mark.csv\")"
   ]
  },
  {
   "cell_type": "code",
   "execution_count": null,
   "id": "508d3b82-716e-4a7c-942d-2cf3d162d4dc",
   "metadata": {},
   "outputs": [],
   "source": []
  }
 ],
 "metadata": {
  "kernelspec": {
   "display_name": "Python 3 (ipykernel)",
   "language": "python",
   "name": "python3"
  },
  "language_info": {
   "codemirror_mode": {
    "name": "ipython",
    "version": 3
   },
   "file_extension": ".py",
   "mimetype": "text/x-python",
   "name": "python",
   "nbconvert_exporter": "python",
   "pygments_lexer": "ipython3",
   "version": "3.9.12"
  }
 },
 "nbformat": 4,
 "nbformat_minor": 5
}
